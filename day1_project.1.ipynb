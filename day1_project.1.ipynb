{
 "cells": [
  {
   "cell_type": "code",
   "execution_count": 6,
   "id": "266157fa",
   "metadata": {
    "id": "266157fa"
   },
   "outputs": [],
   "source": [
    "import pandas as pd\n",
    "import numpy as np\n",
    "import matplotlib.pyplot as plt\n",
    "import seaborn as sns"
   ]
  },
  {
   "cell_type": "code",
   "execution_count": 7,
   "id": "855d7e1a",
   "metadata": {},
   "outputs": [],
   "source": [
    "import os"
   ]
  },
  {
   "cell_type": "code",
   "execution_count": 13,
   "id": "69818d31",
   "metadata": {},
   "outputs": [],
   "source": [
    "os.chdir('/Users/parkseongtae/Desktop/Python') "
   ]
  },
  {
   "cell_type": "code",
   "execution_count": 14,
   "id": "52c280f0",
   "metadata": {},
   "outputs": [
    {
     "name": "stdout",
     "output_type": "stream",
     "text": [
      "현재 디렉토리 /Users/parkseongtae/Desktop/python\n"
     ]
    }
   ],
   "source": [
    "print(\"현재 디렉토리\", os.getcwd())"
   ]
  },
  {
   "cell_type": "code",
   "execution_count": 16,
   "id": "0301137e",
   "metadata": {},
   "outputs": [
    {
     "name": "stdout",
     "output_type": "stream",
     "text": [
      "현재 디렉토리의 파일 목록: ['키오스크 만들기', 'Untitled1.ipynb', '.DS_Store', 'Untitled-1.ipynb', '.pytest_cache', '__pycache__', 'trip.csv', '1-pandas.ipynb', '키오스크.py', '.vscode', 'pandas-data-analysis-main', 'pandas', '직사각형 넓이 구하기.project']\n"
     ]
    }
   ],
   "source": [
    "print(\"현재 디렉토리의 파일 목록:\", os.listdir())"
   ]
  },
  {
   "cell_type": "code",
   "execution_count": 17,
   "id": "a67cc133",
   "metadata": {},
   "outputs": [],
   "source": [
    "data = pd.read_csv('trip.csv')"
   ]
  },
  {
   "cell_type": "code",
   "execution_count": 18,
   "id": "be0a788a",
   "metadata": {
    "id": "be0a788a",
    "outputId": "32a759a9-b9e0-4654-98bd-6e6cae897ebb"
   },
   "outputs": [
    {
     "data": {
      "text/html": [
       "<div>\n",
       "<style scoped>\n",
       "    .dataframe tbody tr th:only-of-type {\n",
       "        vertical-align: middle;\n",
       "    }\n",
       "\n",
       "    .dataframe tbody tr th {\n",
       "        vertical-align: top;\n",
       "    }\n",
       "\n",
       "    .dataframe thead th {\n",
       "        text-align: right;\n",
       "    }\n",
       "</style>\n",
       "<table border=\"1\" class=\"dataframe\">\n",
       "  <thead>\n",
       "    <tr style=\"text-align: right;\">\n",
       "      <th></th>\n",
       "      <th>passenger_name</th>\n",
       "      <th>tpep_pickup_datetime</th>\n",
       "      <th>tpep_dropoff_datetime</th>\n",
       "      <th>payment_method</th>\n",
       "      <th>passenger_count</th>\n",
       "      <th>trip_distance</th>\n",
       "      <th>fare_amount</th>\n",
       "      <th>tip_amount</th>\n",
       "      <th>tolls_amount</th>\n",
       "    </tr>\n",
       "  </thead>\n",
       "  <tbody>\n",
       "    <tr>\n",
       "      <th>0</th>\n",
       "      <td>Pamela Duffy</td>\n",
       "      <td>03/25/2017 8:55:43 AM</td>\n",
       "      <td>03/25/2017 9:09:47 AM</td>\n",
       "      <td>Debit Card</td>\n",
       "      <td>6</td>\n",
       "      <td>3.34</td>\n",
       "      <td>13.0</td>\n",
       "      <td>2.76</td>\n",
       "      <td>0.0</td>\n",
       "    </tr>\n",
       "    <tr>\n",
       "      <th>1</th>\n",
       "      <td>Michelle Foster</td>\n",
       "      <td>04/11/2017 2:53:28 PM</td>\n",
       "      <td>04/11/2017 3:19:58 PM</td>\n",
       "      <td>Debit Card</td>\n",
       "      <td>1</td>\n",
       "      <td>1.80</td>\n",
       "      <td>16.0</td>\n",
       "      <td>4.00</td>\n",
       "      <td>0.0</td>\n",
       "    </tr>\n",
       "    <tr>\n",
       "      <th>2</th>\n",
       "      <td>Tina Combs</td>\n",
       "      <td>12/15/2017 7:26:56 AM</td>\n",
       "      <td>12/15/2017 7:34:08 AM</td>\n",
       "      <td>Debit Card</td>\n",
       "      <td>1</td>\n",
       "      <td>1.00</td>\n",
       "      <td>6.5</td>\n",
       "      <td>1.45</td>\n",
       "      <td>0.0</td>\n",
       "    </tr>\n",
       "    <tr>\n",
       "      <th>3</th>\n",
       "      <td>Anthony Ray</td>\n",
       "      <td>05/07/2017 1:17:59 PM</td>\n",
       "      <td>05/07/2017 1:48:14 PM</td>\n",
       "      <td>Cash</td>\n",
       "      <td>1</td>\n",
       "      <td>3.70</td>\n",
       "      <td>20.5</td>\n",
       "      <td>6.39</td>\n",
       "      <td>0.0</td>\n",
       "    </tr>\n",
       "    <tr>\n",
       "      <th>4</th>\n",
       "      <td>Brianna Johnson</td>\n",
       "      <td>04/15/2017 11:32:20 PM</td>\n",
       "      <td>04/15/2017 11:49:03 PM</td>\n",
       "      <td>Debit Card</td>\n",
       "      <td>1</td>\n",
       "      <td>4.37</td>\n",
       "      <td>16.5</td>\n",
       "      <td>0.00</td>\n",
       "      <td>0.0</td>\n",
       "    </tr>\n",
       "  </tbody>\n",
       "</table>\n",
       "</div>"
      ],
      "text/plain": [
       "    passenger_name    tpep_pickup_datetime   tpep_dropoff_datetime  \\\n",
       "0     Pamela Duffy   03/25/2017 8:55:43 AM   03/25/2017 9:09:47 AM   \n",
       "1  Michelle Foster   04/11/2017 2:53:28 PM   04/11/2017 3:19:58 PM   \n",
       "2       Tina Combs   12/15/2017 7:26:56 AM   12/15/2017 7:34:08 AM   \n",
       "3      Anthony Ray   05/07/2017 1:17:59 PM   05/07/2017 1:48:14 PM   \n",
       "4  Brianna Johnson  04/15/2017 11:32:20 PM  04/15/2017 11:49:03 PM   \n",
       "\n",
       "  payment_method  passenger_count  trip_distance  fare_amount  tip_amount  \\\n",
       "0     Debit Card                6           3.34         13.0        2.76   \n",
       "1     Debit Card                1           1.80         16.0        4.00   \n",
       "2     Debit Card                1           1.00          6.5        1.45   \n",
       "3           Cash                1           3.70         20.5        6.39   \n",
       "4     Debit Card                1           4.37         16.5        0.00   \n",
       "\n",
       "   tolls_amount  \n",
       "0           0.0  \n",
       "1           0.0  \n",
       "2           0.0  \n",
       "3           0.0  \n",
       "4           0.0  "
      ]
     },
     "execution_count": 18,
     "metadata": {},
     "output_type": "execute_result"
    }
   ],
   "source": [
    "data.head()"
   ]
  },
  {
   "cell_type": "code",
   "execution_count": 19,
   "id": "23691858",
   "metadata": {
    "id": "23691858",
    "outputId": "924b86fc-945f-4673-d98c-3cc6e42a94cb"
   },
   "outputs": [
    {
     "name": "stdout",
     "output_type": "stream",
     "text": [
      "<class 'pandas.core.frame.DataFrame'>\n",
      "RangeIndex: 22701 entries, 0 to 22700\n",
      "Data columns (total 9 columns):\n",
      " #   Column                 Non-Null Count  Dtype  \n",
      "---  ------                 --------------  -----  \n",
      " 0   passenger_name         22701 non-null  object \n",
      " 1   tpep_pickup_datetime   22701 non-null  object \n",
      " 2   tpep_dropoff_datetime  22701 non-null  object \n",
      " 3   payment_method         22701 non-null  object \n",
      " 4   passenger_count        22701 non-null  int64  \n",
      " 5   trip_distance          22701 non-null  float64\n",
      " 6   fare_amount            22698 non-null  float64\n",
      " 7   tip_amount             22701 non-null  float64\n",
      " 8   tolls_amount           22701 non-null  float64\n",
      "dtypes: float64(4), int64(1), object(4)\n",
      "memory usage: 1.6+ MB\n"
     ]
    }
   ],
   "source": [
    "data.info()"
   ]
  },
  {
   "cell_type": "code",
   "execution_count": 20,
   "id": "aec5003f",
   "metadata": {
    "id": "aec5003f",
    "outputId": "264c692f-4b20-493d-b986-91911aaed7e9",
    "scrolled": false
   },
   "outputs": [
    {
     "data": {
      "text/html": [
       "<div>\n",
       "<style scoped>\n",
       "    .dataframe tbody tr th:only-of-type {\n",
       "        vertical-align: middle;\n",
       "    }\n",
       "\n",
       "    .dataframe tbody tr th {\n",
       "        vertical-align: top;\n",
       "    }\n",
       "\n",
       "    .dataframe thead th {\n",
       "        text-align: right;\n",
       "    }\n",
       "</style>\n",
       "<table border=\"1\" class=\"dataframe\">\n",
       "  <thead>\n",
       "    <tr style=\"text-align: right;\">\n",
       "      <th></th>\n",
       "      <th>passenger_count</th>\n",
       "      <th>trip_distance</th>\n",
       "      <th>fare_amount</th>\n",
       "      <th>tip_amount</th>\n",
       "      <th>tolls_amount</th>\n",
       "    </tr>\n",
       "  </thead>\n",
       "  <tbody>\n",
       "    <tr>\n",
       "      <th>count</th>\n",
       "      <td>22701.000000</td>\n",
       "      <td>22701.000000</td>\n",
       "      <td>22698.000000</td>\n",
       "      <td>22701.000000</td>\n",
       "      <td>22701.000000</td>\n",
       "    </tr>\n",
       "    <tr>\n",
       "      <th>mean</th>\n",
       "      <td>1.643584</td>\n",
       "      <td>2.913400</td>\n",
       "      <td>13.024009</td>\n",
       "      <td>1.835745</td>\n",
       "      <td>0.312514</td>\n",
       "    </tr>\n",
       "    <tr>\n",
       "      <th>std</th>\n",
       "      <td>1.304942</td>\n",
       "      <td>3.653023</td>\n",
       "      <td>13.240074</td>\n",
       "      <td>2.800537</td>\n",
       "      <td>1.399153</td>\n",
       "    </tr>\n",
       "    <tr>\n",
       "      <th>min</th>\n",
       "      <td>0.000000</td>\n",
       "      <td>0.000000</td>\n",
       "      <td>-120.000000</td>\n",
       "      <td>0.000000</td>\n",
       "      <td>0.000000</td>\n",
       "    </tr>\n",
       "    <tr>\n",
       "      <th>25%</th>\n",
       "      <td>1.000000</td>\n",
       "      <td>0.990000</td>\n",
       "      <td>6.500000</td>\n",
       "      <td>0.000000</td>\n",
       "      <td>0.000000</td>\n",
       "    </tr>\n",
       "    <tr>\n",
       "      <th>50%</th>\n",
       "      <td>1.000000</td>\n",
       "      <td>1.610000</td>\n",
       "      <td>9.500000</td>\n",
       "      <td>1.350000</td>\n",
       "      <td>0.000000</td>\n",
       "    </tr>\n",
       "    <tr>\n",
       "      <th>75%</th>\n",
       "      <td>2.000000</td>\n",
       "      <td>3.060000</td>\n",
       "      <td>14.500000</td>\n",
       "      <td>2.450000</td>\n",
       "      <td>0.000000</td>\n",
       "    </tr>\n",
       "    <tr>\n",
       "      <th>max</th>\n",
       "      <td>36.000000</td>\n",
       "      <td>33.960000</td>\n",
       "      <td>999.990000</td>\n",
       "      <td>200.000000</td>\n",
       "      <td>19.100000</td>\n",
       "    </tr>\n",
       "  </tbody>\n",
       "</table>\n",
       "</div>"
      ],
      "text/plain": [
       "       passenger_count  trip_distance   fare_amount    tip_amount  \\\n",
       "count     22701.000000   22701.000000  22698.000000  22701.000000   \n",
       "mean          1.643584       2.913400     13.024009      1.835745   \n",
       "std           1.304942       3.653023     13.240074      2.800537   \n",
       "min           0.000000       0.000000   -120.000000      0.000000   \n",
       "25%           1.000000       0.990000      6.500000      0.000000   \n",
       "50%           1.000000       1.610000      9.500000      1.350000   \n",
       "75%           2.000000       3.060000     14.500000      2.450000   \n",
       "max          36.000000      33.960000    999.990000    200.000000   \n",
       "\n",
       "       tolls_amount  \n",
       "count  22701.000000  \n",
       "mean       0.312514  \n",
       "std        1.399153  \n",
       "min        0.000000  \n",
       "25%        0.000000  \n",
       "50%        0.000000  \n",
       "75%        0.000000  \n",
       "max       19.100000  "
      ]
     },
     "execution_count": 20,
     "metadata": {},
     "output_type": "execute_result"
    }
   ],
   "source": [
    "data.describe()"
   ]
  },
  {
   "cell_type": "code",
   "execution_count": 21,
   "id": "a809c60a",
   "metadata": {},
   "outputs": [
    {
     "data": {
      "text/plain": [
       "passenger_name           0.000000\n",
       "tpep_pickup_datetime     0.000000\n",
       "tpep_dropoff_datetime    0.000000\n",
       "payment_method           0.000000\n",
       "passenger_count          0.000000\n",
       "trip_distance            0.000000\n",
       "fare_amount              0.000132\n",
       "tip_amount               0.000000\n",
       "tolls_amount             0.000000\n",
       "dtype: float64"
      ]
     },
     "execution_count": 21,
     "metadata": {},
     "output_type": "execute_result"
    }
   ],
   "source": [
    "#결측치 비율 확인 \n",
    "data.isna().mean()"
   ]
  },
  {
   "cell_type": "code",
   "execution_count": 22,
   "id": "0af113d5",
   "metadata": {},
   "outputs": [
    {
     "data": {
      "text/html": [
       "<div>\n",
       "<style scoped>\n",
       "    .dataframe tbody tr th:only-of-type {\n",
       "        vertical-align: middle;\n",
       "    }\n",
       "\n",
       "    .dataframe tbody tr th {\n",
       "        vertical-align: top;\n",
       "    }\n",
       "\n",
       "    .dataframe thead th {\n",
       "        text-align: right;\n",
       "    }\n",
       "</style>\n",
       "<table border=\"1\" class=\"dataframe\">\n",
       "  <thead>\n",
       "    <tr style=\"text-align: right;\">\n",
       "      <th></th>\n",
       "      <th>passenger_name</th>\n",
       "      <th>tpep_pickup_datetime</th>\n",
       "      <th>tpep_dropoff_datetime</th>\n",
       "      <th>payment_method</th>\n",
       "      <th>passenger_count</th>\n",
       "      <th>trip_distance</th>\n",
       "      <th>fare_amount</th>\n",
       "      <th>tip_amount</th>\n",
       "      <th>tolls_amount</th>\n",
       "    </tr>\n",
       "  </thead>\n",
       "  <tbody>\n",
       "    <tr>\n",
       "      <th>52</th>\n",
       "      <td>Benjamin Johnson</td>\n",
       "      <td>04/04/2017 4:22:03 PM</td>\n",
       "      <td>04/04/2017 4:35:30 PM</td>\n",
       "      <td>Cash</td>\n",
       "      <td>1</td>\n",
       "      <td>2.20</td>\n",
       "      <td>NaN</td>\n",
       "      <td>0.0</td>\n",
       "      <td>0.00</td>\n",
       "    </tr>\n",
       "    <tr>\n",
       "      <th>189</th>\n",
       "      <td>Maria Ibarra</td>\n",
       "      <td>08/21/2017 12:40:25 PM</td>\n",
       "      <td>08/21/2017 1:12:31 PM</td>\n",
       "      <td>Debit Card</td>\n",
       "      <td>3</td>\n",
       "      <td>15.20</td>\n",
       "      <td>NaN</td>\n",
       "      <td>5.0</td>\n",
       "      <td>0.00</td>\n",
       "    </tr>\n",
       "    <tr>\n",
       "      <th>244</th>\n",
       "      <td>Tina Avila</td>\n",
       "      <td>08/09/2017 8:32:09 AM</td>\n",
       "      <td>08/09/2017 9:31:11 AM</td>\n",
       "      <td>Cash</td>\n",
       "      <td>1</td>\n",
       "      <td>15.89</td>\n",
       "      <td>NaN</td>\n",
       "      <td>10.0</td>\n",
       "      <td>5.76</td>\n",
       "    </tr>\n",
       "  </tbody>\n",
       "</table>\n",
       "</div>"
      ],
      "text/plain": [
       "       passenger_name    tpep_pickup_datetime  tpep_dropoff_datetime  \\\n",
       "52   Benjamin Johnson   04/04/2017 4:22:03 PM  04/04/2017 4:35:30 PM   \n",
       "189      Maria Ibarra  08/21/2017 12:40:25 PM  08/21/2017 1:12:31 PM   \n",
       "244        Tina Avila   08/09/2017 8:32:09 AM  08/09/2017 9:31:11 AM   \n",
       "\n",
       "    payment_method  passenger_count  trip_distance  fare_amount  tip_amount  \\\n",
       "52            Cash                1           2.20          NaN         0.0   \n",
       "189     Debit Card                3          15.20          NaN         5.0   \n",
       "244           Cash                1          15.89          NaN        10.0   \n",
       "\n",
       "     tolls_amount  \n",
       "52           0.00  \n",
       "189          0.00  \n",
       "244          5.76  "
      ]
     },
     "execution_count": 22,
     "metadata": {},
     "output_type": "execute_result"
    }
   ],
   "source": [
    "#결측치 확인 \n",
    "data[data['fare_amount'].isna()]"
   ]
  },
  {
   "cell_type": "code",
   "execution_count": 23,
   "id": "899102f5",
   "metadata": {},
   "outputs": [],
   "source": [
    "#Nan을 평균으로 채우기 \n",
    "data['fare_amount'] = data['fare_amount'].fillna(data['fare_amount'].mean())"
   ]
  },
  {
   "cell_type": "code",
   "execution_count": 24,
   "id": "94050521",
   "metadata": {},
   "outputs": [
    {
     "data": {
      "text/html": [
       "<div>\n",
       "<style scoped>\n",
       "    .dataframe tbody tr th:only-of-type {\n",
       "        vertical-align: middle;\n",
       "    }\n",
       "\n",
       "    .dataframe tbody tr th {\n",
       "        vertical-align: top;\n",
       "    }\n",
       "\n",
       "    .dataframe thead th {\n",
       "        text-align: right;\n",
       "    }\n",
       "</style>\n",
       "<table border=\"1\" class=\"dataframe\">\n",
       "  <thead>\n",
       "    <tr style=\"text-align: right;\">\n",
       "      <th></th>\n",
       "      <th>passenger_name</th>\n",
       "      <th>tpep_pickup_datetime</th>\n",
       "      <th>tpep_dropoff_datetime</th>\n",
       "      <th>payment_method</th>\n",
       "      <th>passenger_count</th>\n",
       "      <th>trip_distance</th>\n",
       "      <th>fare_amount</th>\n",
       "      <th>tip_amount</th>\n",
       "      <th>tolls_amount</th>\n",
       "    </tr>\n",
       "  </thead>\n",
       "  <tbody>\n",
       "  </tbody>\n",
       "</table>\n",
       "</div>"
      ],
      "text/plain": [
       "Empty DataFrame\n",
       "Columns: [passenger_name, tpep_pickup_datetime, tpep_dropoff_datetime, payment_method, passenger_count, trip_distance, fare_amount, tip_amount, tolls_amount]\n",
       "Index: []"
      ]
     },
     "execution_count": 24,
     "metadata": {},
     "output_type": "execute_result"
    }
   ],
   "source": [
    "#Nan 없어진거 확인\n",
    "data[data['fare_amount'].isna()] "
   ]
  },
  {
   "cell_type": "code",
   "execution_count": 25,
   "id": "af19fce2",
   "metadata": {},
   "outputs": [],
   "source": [
    "#주행시간 구하기 1. 데이터 타입변경 \n",
    "data['tpep_pickup_datetime'] = pd.to_datetime(data['tpep_pickup_datetime'])\n",
    "data['tpep_dropoff_datetime'] = pd.to_datetime(data['tpep_dropoff_datetime'])"
   ]
  },
  {
   "cell_type": "code",
   "execution_count": 26,
   "id": "f7d3fb63",
   "metadata": {},
   "outputs": [],
   "source": [
    "#주행시간 구하기 2. 둘이 뺴기 \n",
    "data['trip_duration'] = (data['tpep_dropoff_datetime'] - data['tpep_pickup_datetime']).dt.total_seconds() / 60"
   ]
  },
  {
   "cell_type": "code",
   "execution_count": 27,
   "id": "b5eb2fa6",
   "metadata": {},
   "outputs": [
    {
     "data": {
      "text/plain": [
       "<Axes: xlabel='trip_distance', ylabel='fare_amount'>"
      ]
     },
     "execution_count": 27,
     "metadata": {},
     "output_type": "execute_result"
    },
    {
     "data": {
      "image/png": "[encoded data removed]",
      "text/plain": [
       "<Figure size 640x480 with 1 Axes>"
      ]
     },
     "metadata": {},
     "output_type": "display_data"
    }
   ],
   "source": [
    "#운행요금 vs 주행거리 운임요금 상관관계 파악 \n",
    "sns.scatterplot(x=data['trip_distance'], y=data['fare_amount'])"
   ]
  },
  {
   "cell_type": "code",
   "execution_count": 28,
   "id": "2580cec6",
   "metadata": {},
   "outputs": [
    {
     "data": {
      "text/plain": [
       "<Axes: xlabel='trip_duration', ylabel='fare_amount'>"
      ]
     },
     "execution_count": 28,
     "metadata": {},
     "output_type": "execute_result"
    },
    {
     "data": {
      "image/png": "[encoded data removed]",
      "text/plain": [
       "<Figure size 640x480 with 1 Axes>"
      ]
     },
     "metadata": {},
     "output_type": "display_data"
    }
   ],
   "source": [
    "#주행시간 vs 운임비용 상관관계 \n",
    "sns.scatterplot(x=data['trip_duration'], y=data['fare_amount']) "
   ]
  },
  {
   "cell_type": "code",
   "execution_count": 29,
   "id": "80b831ca",
   "metadata": {},
   "outputs": [
    {
     "data": {
      "text/plain": [
       "dtype('float64')"
      ]
     },
     "execution_count": 29,
     "metadata": {},
     "output_type": "execute_result"
    }
   ],
   "source": [
    "data['trip_duration'].dtype"
   ]
  },
  {
   "cell_type": "code",
   "execution_count": 31,
   "id": "00e01abd",
   "metadata": {},
   "outputs": [],
   "source": [
    "#1000, 400 값이 너무 이상한거 같음 삭제 - 200이상의 데이터 삭제 \n",
    "data = data[data['fare_amount'].apply(lambda x: True if 1 <= x <= 200 else False)]"
   ]
  },
  {
   "cell_type": "code",
   "execution_count": 32,
   "id": "17c34423",
   "metadata": {},
   "outputs": [
    {
     "data": {
      "text/html": [
       "<div>\n",
       "<style scoped>\n",
       "    .dataframe tbody tr th:only-of-type {\n",
       "        vertical-align: middle;\n",
       "    }\n",
       "\n",
       "    .dataframe tbody tr th {\n",
       "        vertical-align: top;\n",
       "    }\n",
       "\n",
       "    .dataframe thead th {\n",
       "        text-align: right;\n",
       "    }\n",
       "</style>\n",
       "<table border=\"1\" class=\"dataframe\">\n",
       "  <thead>\n",
       "    <tr style=\"text-align: right;\">\n",
       "      <th></th>\n",
       "      <th>tpep_pickup_datetime</th>\n",
       "      <th>tpep_dropoff_datetime</th>\n",
       "      <th>passenger_count</th>\n",
       "      <th>trip_distance</th>\n",
       "      <th>fare_amount</th>\n",
       "      <th>tip_amount</th>\n",
       "      <th>tolls_amount</th>\n",
       "      <th>trip_duration</th>\n",
       "    </tr>\n",
       "  </thead>\n",
       "  <tbody>\n",
       "    <tr>\n",
       "      <th>count</th>\n",
       "      <td>22676</td>\n",
       "      <td>22676</td>\n",
       "      <td>22676.000000</td>\n",
       "      <td>22676.000000</td>\n",
       "      <td>22676.000000</td>\n",
       "      <td>22676.000000</td>\n",
       "      <td>22676.000000</td>\n",
       "      <td>22676.000000</td>\n",
       "    </tr>\n",
       "    <tr>\n",
       "      <th>mean</th>\n",
       "      <td>2017-06-29 07:31:03.278400</td>\n",
       "      <td>2017-06-29 07:48:00.890192128</td>\n",
       "      <td>1.643588</td>\n",
       "      <td>2.913428</td>\n",
       "      <td>12.972813</td>\n",
       "      <td>1.826672</td>\n",
       "      <td>0.311590</td>\n",
       "      <td>16.960197</td>\n",
       "    </tr>\n",
       "    <tr>\n",
       "      <th>min</th>\n",
       "      <td>2017-01-01 00:08:25</td>\n",
       "      <td>2017-01-01 00:17:20</td>\n",
       "      <td>0.000000</td>\n",
       "      <td>0.000000</td>\n",
       "      <td>1.000000</td>\n",
       "      <td>0.000000</td>\n",
       "      <td>0.000000</td>\n",
       "      <td>-16.983333</td>\n",
       "    </tr>\n",
       "    <tr>\n",
       "      <th>25%</th>\n",
       "      <td>2017-03-30 02:22:36.249999872</td>\n",
       "      <td>2017-03-30 02:33:54.249999872</td>\n",
       "      <td>1.000000</td>\n",
       "      <td>1.000000</td>\n",
       "      <td>6.500000</td>\n",
       "      <td>0.000000</td>\n",
       "      <td>0.000000</td>\n",
       "      <td>6.666667</td>\n",
       "    </tr>\n",
       "    <tr>\n",
       "      <th>50%</th>\n",
       "      <td>2017-06-23 13:11:56.500000</td>\n",
       "      <td>2017-06-23 13:21:02.500000</td>\n",
       "      <td>1.000000</td>\n",
       "      <td>1.610000</td>\n",
       "      <td>9.500000</td>\n",
       "      <td>1.350000</td>\n",
       "      <td>0.000000</td>\n",
       "      <td>11.183333</td>\n",
       "    </tr>\n",
       "    <tr>\n",
       "      <th>75%</th>\n",
       "      <td>2017-10-02 10:26:02</td>\n",
       "      <td>2017-10-02 10:39:51.500000</td>\n",
       "      <td>2.000000</td>\n",
       "      <td>3.070000</td>\n",
       "      <td>14.500000</td>\n",
       "      <td>2.450000</td>\n",
       "      <td>0.000000</td>\n",
       "      <td>18.383333</td>\n",
       "    </tr>\n",
       "    <tr>\n",
       "      <th>max</th>\n",
       "      <td>2017-12-31 23:45:30</td>\n",
       "      <td>2017-12-31 23:49:24</td>\n",
       "      <td>36.000000</td>\n",
       "      <td>33.960000</td>\n",
       "      <td>200.000000</td>\n",
       "      <td>55.500000</td>\n",
       "      <td>19.100000</td>\n",
       "      <td>1439.550000</td>\n",
       "    </tr>\n",
       "    <tr>\n",
       "      <th>std</th>\n",
       "      <td>NaN</td>\n",
       "      <td>NaN</td>\n",
       "      <td>1.304922</td>\n",
       "      <td>3.646358</td>\n",
       "      <td>11.024997</td>\n",
       "      <td>2.450906</td>\n",
       "      <td>1.395441</td>\n",
       "      <td>61.343702</td>\n",
       "    </tr>\n",
       "  </tbody>\n",
       "</table>\n",
       "</div>"
      ],
      "text/plain": [
       "                tpep_pickup_datetime          tpep_dropoff_datetime  \\\n",
       "count                          22676                          22676   \n",
       "mean      2017-06-29 07:31:03.278400  2017-06-29 07:48:00.890192128   \n",
       "min              2017-01-01 00:08:25            2017-01-01 00:17:20   \n",
       "25%    2017-03-30 02:22:36.249999872  2017-03-30 02:33:54.249999872   \n",
       "50%       2017-06-23 13:11:56.500000     2017-06-23 13:21:02.500000   \n",
       "75%              2017-10-02 10:26:02     2017-10-02 10:39:51.500000   \n",
       "max              2017-12-31 23:45:30            2017-12-31 23:49:24   \n",
       "std                              NaN                            NaN   \n",
       "\n",
       "       passenger_count  trip_distance   fare_amount    tip_amount  \\\n",
       "count     22676.000000   22676.000000  22676.000000  22676.000000   \n",
       "mean          1.643588       2.913428     12.972813      1.826672   \n",
       "min           0.000000       0.000000      1.000000      0.000000   \n",
       "25%           1.000000       1.000000      6.500000      0.000000   \n",
       "50%           1.000000       1.610000      9.500000      1.350000   \n",
       "75%           2.000000       3.070000     14.500000      2.450000   \n",
       "max          36.000000      33.960000    200.000000     55.500000   \n",
       "std           1.304922       3.646358     11.024997      2.450906   \n",
       "\n",
       "       tolls_amount  trip_duration  \n",
       "count  22676.000000   22676.000000  \n",
       "mean       0.311590      16.960197  \n",
       "min        0.000000     -16.983333  \n",
       "25%        0.000000       6.666667  \n",
       "50%        0.000000      11.183333  \n",
       "75%        0.000000      18.383333  \n",
       "max       19.100000    1439.550000  \n",
       "std        1.395441      61.343702  "
      ]
     },
     "execution_count": 32,
     "metadata": {},
     "output_type": "execute_result"
    }
   ],
   "source": [
    "data.describe()"
   ]
  },
  {
   "cell_type": "code",
   "execution_count": 33,
   "id": "0c37d0d5",
   "metadata": {},
   "outputs": [
    {
     "data": {
      "text/plain": [
       "<Axes: xlabel='trip_distance', ylabel='fare_amount'>"
      ]
     },
     "execution_count": 33,
     "metadata": {},
     "output_type": "execute_result"
    },
    {
     "data": {
      "image/png": "[encoded data removed]",
      "text/plain": [
       "<Figure size 640x480 with 1 Axes>"
      ]
     },
     "metadata": {},
     "output_type": "display_data"
    }
   ],
   "source": [
    "#결측치 제거 후 운행요금 vs 주행거리 운임요금 상관관계 파악 \n",
    "sns.scatterplot(x=data['trip_distance'], y=data['fare_amount']) "
   ]
  },
  {
   "cell_type": "code",
   "execution_count": 34,
   "id": "2429546a",
   "metadata": {},
   "outputs": [],
   "source": [
    "correlation_matrix = data[['trip_distance', 'trip_duration', 'fare_amount']].corr()"
   ]
  },
  {
   "cell_type": "code",
   "execution_count": 35,
   "id": "384126e3",
   "metadata": {},
   "outputs": [
    {
     "data": {
      "image/png": "[encoded data removed]",
      "text/plain": [
       "<Figure size 640x480 with 2 Axes>"
      ]
     },
     "metadata": {},
     "output_type": "display_data"
    }
   ],
   "source": [
    "# 히트맵 시각화\n",
    "sns.heatmap(correlation_matrix, annot=True, cmap='coolwarm', fmt=\".2f\", linewidths=0.5)\n",
    "plt.title(\"Correlation Heatmap\")\n",
    "plt.show()\n",
    "\n",
    "#거리가 길수록 요금이 비싸짐\n",
    "#운행시간이 길수록 이동거리도 길어짐\n",
    "#운행 시간이 길다고 무조건 요금이 높은 것은 아님"
   ]
  },
  {
   "cell_type": "code",
   "execution_count": 36,
   "id": "9e62cc72",
   "metadata": {},
   "outputs": [],
   "source": [
    "#Credit Card와 Debit Card를 구분없이 \"Card\"로 \n",
    "data['payment_method'] = data['payment_method'].replace({'Credit Card' : 'Card', 'Debit Card': 'Card'})"
   ]
  },
  {
   "cell_type": "code",
   "execution_count": 37,
   "id": "3ea07704",
   "metadata": {},
   "outputs": [
    {
     "data": {
      "text/plain": [
       "0        Card\n",
       "1        Card\n",
       "2        Card\n",
       "3        Cash\n",
       "4        Card\n",
       "         ... \n",
       "22696    Cash\n",
       "22697    Cash\n",
       "22698    Card\n",
       "22699    Card\n",
       "22700    Cash\n",
       "Name: payment_method, Length: 22676, dtype: object"
      ]
     },
     "execution_count": 37,
     "metadata": {},
     "output_type": "execute_result"
    }
   ],
   "source": [
    "data['payment_method']"
   ]
  },
  {
   "cell_type": "code",
   "execution_count": null,
   "id": "0b413e32",
   "metadata": {},
   "outputs": [],
   "source": []
  }
 ],
 "metadata": {
  "colab": {
   "provenance": [
    {
     "file_id": "1n_ohcQG6sbsX0ZKMHq-SiBLD8c8K6aQ-",
     "timestamp": 1702372947347
    }
   ]
  },
  "kernelspec": {
   "display_name": "Modulabs",
   "language": "python",
   "name": "python3"
  },
  "language_info": {
   "codemirror_mode": {
    "name": "ipython",
    "version": 3
   },
   "file_extension": ".py",
   "mimetype": "text/x-python",
   "name": "python",
   "nbconvert_exporter": "python",
   "pygments_lexer": "ipython3",
   "version": "3.10.12"
  }
 },
 "nbformat": 4,
 "nbformat_minor": 5
}
